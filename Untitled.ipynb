{
 "cells": [
  {
   "cell_type": "code",
   "execution_count": null,
   "id": "597e57c4",
   "metadata": {
    "jupyter": {
     "source_hidden": true
    }
   },
   "outputs": [],
   "source": [
    "# /// script\n",
    "# requires-python = \">=3.13\"\n",
    "# dependencies = [\n",
    "#     \"pandas\",\n",
    "#     \"pyarrow\",\n",
    "# ]\n",
    "# ///"
   ]
  },
  {
   "cell_type": "code",
   "execution_count": 7,
   "id": "f2bee661",
   "metadata": {},
   "outputs": [],
   "source": [
    "import pyarrow as pa\n",
    "import pyarrow.ipc as ipc\n",
    "\n",
    "fileA = \"gaia-sample.arrow\" # downloaded from: https://observablehq.com/@uwdata/peeking-into-the-gaia-star-catalog\n",
    "fileB = \"stevens.arrow\" # from dvdkouril/spatial-genome-data\n",
    "\n",
    "def openArrowFileReader(file_path):\n",
    "    with open(file_path, \"rb\") as f:\n",
    "        reader = ipc.RecordBatchFileReader(f)\n",
    "        table = reader.read_all()\n",
    "        return table\n",
    "\n",
    "def openArrowStreamReader(file_path):\n",
    "    with open(file_path, \"rb\") as f:\n",
    "        reader = ipc.RecordBatchStreamReader(f)\n",
    "        table = reader.read_all()\n",
    "        return table"
   ]
  },
  {
   "cell_type": "code",
   "execution_count": 8,
   "id": "5eff5e0b-3013-4c15-99f9-c15677339f3c",
   "metadata": {},
   "outputs": [
    {
     "ename": "ArrowInvalid",
     "evalue": "Not an Arrow file",
     "output_type": "error",
     "traceback": [
      "\u001b[31m---------------------------------------------------------------------------\u001b[39m",
      "\u001b[31mArrowInvalid\u001b[39m                              Traceback (most recent call last)",
      "\u001b[36mCell\u001b[39m\u001b[36m \u001b[39m\u001b[32mIn[8]\u001b[39m\u001b[32m, line 2\u001b[39m\n\u001b[32m      1\u001b[39m \u001b[38;5;66;03m# gaia.arrow\u001b[39;00m\n\u001b[32m----> \u001b[39m\u001b[32m2\u001b[39m \u001b[43mopenArrowFileReader\u001b[49m\u001b[43m(\u001b[49m\u001b[43mfileA\u001b[49m\u001b[43m)\u001b[49m.to_pandas().head()\n",
      "\u001b[36mCell\u001b[39m\u001b[36m \u001b[39m\u001b[32mIn[7]\u001b[39m\u001b[32m, line 9\u001b[39m, in \u001b[36mopenArrowFileReader\u001b[39m\u001b[34m(file_path)\u001b[39m\n\u001b[32m      7\u001b[39m \u001b[38;5;28;01mdef\u001b[39;00m\u001b[38;5;250m \u001b[39m\u001b[34mopenArrowFileReader\u001b[39m(file_path):\n\u001b[32m      8\u001b[39m     \u001b[38;5;28;01mwith\u001b[39;00m \u001b[38;5;28mopen\u001b[39m(file_path, \u001b[33m\"\u001b[39m\u001b[33mrb\u001b[39m\u001b[33m\"\u001b[39m) \u001b[38;5;28;01mas\u001b[39;00m f:\n\u001b[32m----> \u001b[39m\u001b[32m9\u001b[39m         reader = \u001b[43mipc\u001b[49m\u001b[43m.\u001b[49m\u001b[43mRecordBatchFileReader\u001b[49m\u001b[43m(\u001b[49m\u001b[43mf\u001b[49m\u001b[43m)\u001b[49m\n\u001b[32m     10\u001b[39m         table = reader.read_all()\n\u001b[32m     11\u001b[39m         \u001b[38;5;28;01mreturn\u001b[39;00m table\n",
      "\u001b[36mFile \u001b[39m\u001b[32m~/.cache/uv/archive-v0/QJ-enS4OBD0ifmP0nGRC8/lib/python3.13/site-packages/pyarrow/ipc.py:110\u001b[39m, in \u001b[36mRecordBatchFileReader.__init__\u001b[39m\u001b[34m(self, source, footer_offset, options, memory_pool)\u001b[39m\n\u001b[32m    107\u001b[39m \u001b[38;5;28;01mdef\u001b[39;00m\u001b[38;5;250m \u001b[39m\u001b[34m__init__\u001b[39m(\u001b[38;5;28mself\u001b[39m, source, footer_offset=\u001b[38;5;28;01mNone\u001b[39;00m, *, options=\u001b[38;5;28;01mNone\u001b[39;00m,\n\u001b[32m    108\u001b[39m              memory_pool=\u001b[38;5;28;01mNone\u001b[39;00m):\n\u001b[32m    109\u001b[39m     options = _ensure_default_ipc_read_options(options)\n\u001b[32m--> \u001b[39m\u001b[32m110\u001b[39m     \u001b[38;5;28;43mself\u001b[39;49m\u001b[43m.\u001b[49m\u001b[43m_open\u001b[49m\u001b[43m(\u001b[49m\u001b[43msource\u001b[49m\u001b[43m,\u001b[49m\u001b[43m \u001b[49m\u001b[43mfooter_offset\u001b[49m\u001b[43m=\u001b[49m\u001b[43mfooter_offset\u001b[49m\u001b[43m,\u001b[49m\n\u001b[32m    111\u001b[39m \u001b[43m               \u001b[49m\u001b[43moptions\u001b[49m\u001b[43m=\u001b[49m\u001b[43moptions\u001b[49m\u001b[43m,\u001b[49m\u001b[43m \u001b[49m\u001b[43mmemory_pool\u001b[49m\u001b[43m=\u001b[49m\u001b[43mmemory_pool\u001b[49m\u001b[43m)\u001b[49m\n",
      "\u001b[36mFile \u001b[39m\u001b[32m~/.cache/uv/archive-v0/QJ-enS4OBD0ifmP0nGRC8/lib/python3.13/site-packages/pyarrow/ipc.pxi:1090\u001b[39m, in \u001b[36mpyarrow.lib._RecordBatchFileReader._open\u001b[39m\u001b[34m()\u001b[39m\n",
      "\u001b[36mFile \u001b[39m\u001b[32m~/.cache/uv/archive-v0/QJ-enS4OBD0ifmP0nGRC8/lib/python3.13/site-packages/pyarrow/error.pxi:155\u001b[39m, in \u001b[36mpyarrow.lib.pyarrow_internal_check_status\u001b[39m\u001b[34m()\u001b[39m\n",
      "\u001b[36mFile \u001b[39m\u001b[32m~/.cache/uv/archive-v0/QJ-enS4OBD0ifmP0nGRC8/lib/python3.13/site-packages/pyarrow/error.pxi:92\u001b[39m, in \u001b[36mpyarrow.lib.check_status\u001b[39m\u001b[34m()\u001b[39m\n",
      "\u001b[31mArrowInvalid\u001b[39m: Not an Arrow file"
     ]
    }
   ],
   "source": [
    "# gaia.arrow\n",
    "openArrowFileReader(fileA).to_pandas().head()"
   ]
  },
  {
   "cell_type": "code",
   "execution_count": 9,
   "id": "61d86df1-d8c5-478e-a0c8-f549c2e661d3",
   "metadata": {},
   "outputs": [
    {
     "data": {
      "text/html": [
       "<div>\n",
       "<style scoped>\n",
       "    .dataframe tbody tr th:only-of-type {\n",
       "        vertical-align: middle;\n",
       "    }\n",
       "\n",
       "    .dataframe tbody tr th {\n",
       "        vertical-align: top;\n",
       "    }\n",
       "\n",
       "    .dataframe thead th {\n",
       "        text-align: right;\n",
       "    }\n",
       "</style>\n",
       "<table border=\"1\" class=\"dataframe\">\n",
       "  <thead>\n",
       "    <tr style=\"text-align: right;\">\n",
       "      <th></th>\n",
       "      <th>x</th>\n",
       "      <th>y</th>\n",
       "      <th>z</th>\n",
       "      <th>chr</th>\n",
       "      <th>coord</th>\n",
       "    </tr>\n",
       "  </thead>\n",
       "  <tbody>\n",
       "    <tr>\n",
       "      <th>0</th>\n",
       "      <td>9.925</td>\n",
       "      <td>-6.580</td>\n",
       "      <td>-1.571</td>\n",
       "      <td>chr a</td>\n",
       "      <td>3000000</td>\n",
       "    </tr>\n",
       "    <tr>\n",
       "      <th>1</th>\n",
       "      <td>9.318</td>\n",
       "      <td>-7.277</td>\n",
       "      <td>-0.979</td>\n",
       "      <td>chr a</td>\n",
       "      <td>3100000</td>\n",
       "    </tr>\n",
       "    <tr>\n",
       "      <th>2</th>\n",
       "      <td>8.566</td>\n",
       "      <td>-7.130</td>\n",
       "      <td>-0.231</td>\n",
       "      <td>chr a</td>\n",
       "      <td>3200000</td>\n",
       "    </tr>\n",
       "    <tr>\n",
       "      <th>3</th>\n",
       "      <td>7.593</td>\n",
       "      <td>-6.825</td>\n",
       "      <td>-0.851</td>\n",
       "      <td>chr a</td>\n",
       "      <td>3300000</td>\n",
       "    </tr>\n",
       "    <tr>\n",
       "      <th>4</th>\n",
       "      <td>7.034</td>\n",
       "      <td>-5.991</td>\n",
       "      <td>-0.617</td>\n",
       "      <td>chr a</td>\n",
       "      <td>3400000</td>\n",
       "    </tr>\n",
       "  </tbody>\n",
       "</table>\n",
       "</div>"
      ],
      "text/plain": [
       "       x      y      z    chr    coord\n",
       "0  9.925 -6.580 -1.571  chr a  3000000\n",
       "1  9.318 -7.277 -0.979  chr a  3100000\n",
       "2  8.566 -7.130 -0.231  chr a  3200000\n",
       "3  7.593 -6.825 -0.851  chr a  3300000\n",
       "4  7.034 -5.991 -0.617  chr a  3400000"
      ]
     },
     "execution_count": 9,
     "metadata": {},
     "output_type": "execute_result"
    }
   ],
   "source": [
    "# stevens.arrow\n",
    "openArrowFileReader(fileB).to_pandas().head()"
   ]
  },
  {
   "cell_type": "code",
   "execution_count": 10,
   "id": "b7bd6df7-961f-4b37-b4a5-07592b19a67f",
   "metadata": {},
   "outputs": [
    {
     "data": {
      "text/html": [
       "<div>\n",
       "<style scoped>\n",
       "    .dataframe tbody tr th:only-of-type {\n",
       "        vertical-align: middle;\n",
       "    }\n",
       "\n",
       "    .dataframe tbody tr th {\n",
       "        vertical-align: top;\n",
       "    }\n",
       "\n",
       "    .dataframe thead th {\n",
       "        text-align: right;\n",
       "    }\n",
       "</style>\n",
       "<table border=\"1\" class=\"dataframe\">\n",
       "  <thead>\n",
       "    <tr style=\"text-align: right;\">\n",
       "      <th></th>\n",
       "      <th>source_id</th>\n",
       "      <th>ra</th>\n",
       "      <th>dec</th>\n",
       "      <th>parallax</th>\n",
       "      <th>parallax_error</th>\n",
       "      <th>phot_g_mean_mag</th>\n",
       "      <th>bp_rp</th>\n",
       "      <th>dr2_radial_velocity</th>\n",
       "      <th>dr2_radial_velocity_error</th>\n",
       "    </tr>\n",
       "  </thead>\n",
       "  <tbody>\n",
       "    <tr>\n",
       "      <th>0</th>\n",
       "      <td>5.972832e+18</td>\n",
       "      <td>259.859885</td>\n",
       "      <td>-38.126187</td>\n",
       "      <td>NaN</td>\n",
       "      <td>NaN</td>\n",
       "      <td>20.746231</td>\n",
       "      <td>NaN</td>\n",
       "      <td>NaN</td>\n",
       "      <td>NaN</td>\n",
       "    </tr>\n",
       "    <tr>\n",
       "      <th>1</th>\n",
       "      <td>6.498936e+18</td>\n",
       "      <td>350.558203</td>\n",
       "      <td>-55.654576</td>\n",
       "      <td>NaN</td>\n",
       "      <td>NaN</td>\n",
       "      <td>21.128216</td>\n",
       "      <td>1.293613</td>\n",
       "      <td>NaN</td>\n",
       "      <td>NaN</td>\n",
       "    </tr>\n",
       "    <tr>\n",
       "      <th>2</th>\n",
       "      <td>4.073224e+18</td>\n",
       "      <td>281.893218</td>\n",
       "      <td>-25.348710</td>\n",
       "      <td>0.305901</td>\n",
       "      <td>0.318304</td>\n",
       "      <td>19.321380</td>\n",
       "      <td>1.123394</td>\n",
       "      <td>NaN</td>\n",
       "      <td>NaN</td>\n",
       "    </tr>\n",
       "    <tr>\n",
       "      <th>3</th>\n",
       "      <td>4.070236e+18</td>\n",
       "      <td>268.673323</td>\n",
       "      <td>-22.517255</td>\n",
       "      <td>0.353762</td>\n",
       "      <td>2.043955</td>\n",
       "      <td>20.654990</td>\n",
       "      <td>NaN</td>\n",
       "      <td>NaN</td>\n",
       "      <td>NaN</td>\n",
       "    </tr>\n",
       "    <tr>\n",
       "      <th>4</th>\n",
       "      <td>5.208927e+18</td>\n",
       "      <td>121.165957</td>\n",
       "      <td>-78.968019</td>\n",
       "      <td>3.175011</td>\n",
       "      <td>0.013755</td>\n",
       "      <td>11.387156</td>\n",
       "      <td>0.953646</td>\n",
       "      <td>32.508114</td>\n",
       "      <td>2.188383</td>\n",
       "    </tr>\n",
       "  </tbody>\n",
       "</table>\n",
       "</div>"
      ],
      "text/plain": [
       "      source_id          ra        dec  parallax  parallax_error  \\\n",
       "0  5.972832e+18  259.859885 -38.126187       NaN             NaN   \n",
       "1  6.498936e+18  350.558203 -55.654576       NaN             NaN   \n",
       "2  4.073224e+18  281.893218 -25.348710  0.305901        0.318304   \n",
       "3  4.070236e+18  268.673323 -22.517255  0.353762        2.043955   \n",
       "4  5.208927e+18  121.165957 -78.968019  3.175011        0.013755   \n",
       "\n",
       "   phot_g_mean_mag     bp_rp  dr2_radial_velocity  dr2_radial_velocity_error  \n",
       "0        20.746231       NaN                  NaN                        NaN  \n",
       "1        21.128216  1.293613                  NaN                        NaN  \n",
       "2        19.321380  1.123394                  NaN                        NaN  \n",
       "3        20.654990       NaN                  NaN                        NaN  \n",
       "4        11.387156  0.953646            32.508114                   2.188383  "
      ]
     },
     "execution_count": 10,
     "metadata": {},
     "output_type": "execute_result"
    }
   ],
   "source": [
    "# gaia.arrow\n",
    "openArrowStreamReader(fileA).to_pandas().head()"
   ]
  },
  {
   "cell_type": "code",
   "execution_count": 11,
   "id": "414a942a-4738-4d81-9427-b26154ce29ef",
   "metadata": {},
   "outputs": [
    {
     "ename": "ArrowInvalid",
     "evalue": "Expected to read 1330795073 metadata bytes, but only read 1055726",
     "output_type": "error",
     "traceback": [
      "\u001b[31m---------------------------------------------------------------------------\u001b[39m",
      "\u001b[31mArrowInvalid\u001b[39m                              Traceback (most recent call last)",
      "\u001b[36mCell\u001b[39m\u001b[36m \u001b[39m\u001b[32mIn[11]\u001b[39m\u001b[32m, line 2\u001b[39m\n\u001b[32m      1\u001b[39m \u001b[38;5;66;03m# stevens.arrow\u001b[39;00m\n\u001b[32m----> \u001b[39m\u001b[32m2\u001b[39m \u001b[43mopenArrowStreamReader\u001b[49m\u001b[43m(\u001b[49m\u001b[43mfileB\u001b[49m\u001b[43m)\u001b[49m.to_pandas().head()\n",
      "\u001b[36mCell\u001b[39m\u001b[36m \u001b[39m\u001b[32mIn[7]\u001b[39m\u001b[32m, line 15\u001b[39m, in \u001b[36mopenArrowStreamReader\u001b[39m\u001b[34m(file_path)\u001b[39m\n\u001b[32m     13\u001b[39m \u001b[38;5;28;01mdef\u001b[39;00m\u001b[38;5;250m \u001b[39m\u001b[34mopenArrowStreamReader\u001b[39m(file_path):\n\u001b[32m     14\u001b[39m     \u001b[38;5;28;01mwith\u001b[39;00m \u001b[38;5;28mopen\u001b[39m(file_path, \u001b[33m\"\u001b[39m\u001b[33mrb\u001b[39m\u001b[33m\"\u001b[39m) \u001b[38;5;28;01mas\u001b[39;00m f:\n\u001b[32m---> \u001b[39m\u001b[32m15\u001b[39m         reader = \u001b[43mipc\u001b[49m\u001b[43m.\u001b[49m\u001b[43mRecordBatchStreamReader\u001b[49m\u001b[43m(\u001b[49m\u001b[43mf\u001b[49m\u001b[43m)\u001b[49m\n\u001b[32m     16\u001b[39m         table = reader.read_all()\n\u001b[32m     17\u001b[39m         \u001b[38;5;28;01mreturn\u001b[39;00m table\n",
      "\u001b[36mFile \u001b[39m\u001b[32m~/.cache/uv/archive-v0/QJ-enS4OBD0ifmP0nGRC8/lib/python3.13/site-packages/pyarrow/ipc.py:52\u001b[39m, in \u001b[36mRecordBatchStreamReader.__init__\u001b[39m\u001b[34m(self, source, options, memory_pool)\u001b[39m\n\u001b[32m     50\u001b[39m \u001b[38;5;28;01mdef\u001b[39;00m\u001b[38;5;250m \u001b[39m\u001b[34m__init__\u001b[39m(\u001b[38;5;28mself\u001b[39m, source, *, options=\u001b[38;5;28;01mNone\u001b[39;00m, memory_pool=\u001b[38;5;28;01mNone\u001b[39;00m):\n\u001b[32m     51\u001b[39m     options = _ensure_default_ipc_read_options(options)\n\u001b[32m---> \u001b[39m\u001b[32m52\u001b[39m     \u001b[38;5;28;43mself\u001b[39;49m\u001b[43m.\u001b[49m\u001b[43m_open\u001b[49m\u001b[43m(\u001b[49m\u001b[43msource\u001b[49m\u001b[43m,\u001b[49m\u001b[43m \u001b[49m\u001b[43moptions\u001b[49m\u001b[43m=\u001b[49m\u001b[43moptions\u001b[49m\u001b[43m,\u001b[49m\u001b[43m \u001b[49m\u001b[43mmemory_pool\u001b[49m\u001b[43m=\u001b[49m\u001b[43mmemory_pool\u001b[49m\u001b[43m)\u001b[49m\n",
      "\u001b[36mFile \u001b[39m\u001b[32m~/.cache/uv/archive-v0/QJ-enS4OBD0ifmP0nGRC8/lib/python3.13/site-packages/pyarrow/ipc.pxi:1006\u001b[39m, in \u001b[36mpyarrow.lib._RecordBatchStreamReader._open\u001b[39m\u001b[34m()\u001b[39m\n",
      "\u001b[36mFile \u001b[39m\u001b[32m~/.cache/uv/archive-v0/QJ-enS4OBD0ifmP0nGRC8/lib/python3.13/site-packages/pyarrow/error.pxi:155\u001b[39m, in \u001b[36mpyarrow.lib.pyarrow_internal_check_status\u001b[39m\u001b[34m()\u001b[39m\n",
      "\u001b[36mFile \u001b[39m\u001b[32m~/.cache/uv/archive-v0/QJ-enS4OBD0ifmP0nGRC8/lib/python3.13/site-packages/pyarrow/error.pxi:92\u001b[39m, in \u001b[36mpyarrow.lib.check_status\u001b[39m\u001b[34m()\u001b[39m\n",
      "\u001b[31mArrowInvalid\u001b[39m: Expected to read 1330795073 metadata bytes, but only read 1055726"
     ]
    }
   ],
   "source": [
    "# stevens.arrow\n",
    "openArrowStreamReader(fileB).to_pandas().head()"
   ]
  },
  {
   "cell_type": "code",
   "execution_count": null,
   "id": "8937bd1b-1ed5-4509-a17b-ae8594971913",
   "metadata": {},
   "outputs": [],
   "source": []
  }
 ],
 "metadata": {
  "kernelspec": {
   "display_name": "Python 3 (ipykernel)",
   "language": "python",
   "name": "python3"
  },
  "language_info": {
   "codemirror_mode": {
    "name": "ipython",
    "version": 3
   },
   "file_extension": ".py",
   "mimetype": "text/x-python",
   "name": "python",
   "nbconvert_exporter": "python",
   "pygments_lexer": "ipython3",
   "version": "3.13.0"
  }
 },
 "nbformat": 4,
 "nbformat_minor": 5
}
